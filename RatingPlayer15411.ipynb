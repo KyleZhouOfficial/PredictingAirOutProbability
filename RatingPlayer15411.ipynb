{
 "cells": [
  {
   "cell_type": "markdown",
   "id": "df1871f7-645a-40c0-af40-e4bf236c975f",
   "metadata": {},
   "source": [
    "# Approach to Comparing Player 15411 Against Other Fielders\n",
    "\n",
    "## Problem Overview\n",
    "The dataset provided includes various attributes of each pitch, including information about the ball's exit speed, vertical and horizontal exit angles, and the defensive players involved. However, the `first_fielder` column only contains values when the ball was caught for an out (`is_airout == 1`), limiting our ability to compare fielders using this column alone.\n",
    "\n",
    "## Objective\n",
    "Our goal is to compare **player 15411** (center fielder)) against all other center fielders in the league without relying on the `first_fielder` column. Instead, we will try assign responsibility for every batted ball to a fielder using two methods. \n",
    "\n",
    "The first method assigns responsibility based on its **horizontal exit angle** and calculates performance metrics based on total opportunities and airouts. However, this approach has its **limitations** since we don't know the wind speed or spin-axis for the ball, which could change its trajectory, and thus which fielder should be responsible for fielding it (ex., wind pushes the ball towards center field instead of right). Also, it doesn't incorporate the shifts that teams may have for their outfielders. As a result, solely relying on the horizontal exit angle can result in misassignments.\n",
    "\n",
    "The second method uses a random forest classifier to predict the outfielder responsible for the fly ball. The model has an accuracy of ~86% which is alright and can be improved, but given more information such as spin axis, wind, etc we could increase the model's accuracy. \n",
    "\n",
    "\n",
    "\n",
    "## Steps for Measuring Efficiency of Fielders\n",
    "\n",
    "### 1. Assign Responsibility Based on Horizontal Exit Angle\n",
    "We divide the field into zones based on the **horizontal exit angle** of the ball:\n",
    "\n",
    "- **Center Fielder (CF)**: Responsible for balls with horizontal exit angles between -14.76 and 13.3 degrees (explaination in code below).\n",
    "\n",
    "\n",
    "Using these zones, we assign responsibility for each batted ball, regardless of whether it was caught for an air out or not.\n",
    "\n",
    "### 2. Assign Actual Fielders\n",
    "Once responsibility is determined based on the horizontal exit angle, we use the player IDs from the columns `lf_id`, `cf_id`, and `rf_id` to identify the actual fielder responsible for the play.\n",
    "\n",
    "### 3. Calculate Total Opportunities and Air Outs\n",
    "For each fielder, we calculate:\n",
    "- **Total Opportunities**: The total number of balls hit into the fielder's zone, including both catches and misses.\n",
    "- **Total Air Outs**: The total number of successful air outs (`is_airout == 1`) made by the fielder.\n",
    "\n",
    "### 4. Calculate Efficiency\n",
    "To measure performance, we compute the **efficiency** for each fielder as:\n",
    "$$\n",
    "{Efficiency} = \\frac{\\text{Total Air Outs}}{\\text{Total Opportunities}}\n",
    "$$\n",
    "This efficiency score reflects how successful a fielder is at converting opportunities into outs.\n",
    "\n",
    "## Future Work\n",
    "\n",
    "Additionally, evaluating the difficulty of a play provides valuable insights into player performance. By considering several features of a batted ball—such as its exit speed, launch angles, and spin rate—we can create a **difficulty score** that quantifies how challenging a particular play was for the fielder responsible. However, it is challenging to value the difficulty of a fly ball since it is possible not all variables are equally important in determining the difficulty of a ball and different variables are measured in different units. Nonetheless, the process below is an example approach for the implementation of a difficult score.\n",
    "\n",
    "## Steps for Measuring Difficulty of play made by fielders\n",
    "\n",
    "### 1. Standardize the Features\n",
    "Since these features are measured in different units (e.g., exit speed in miles per hour, angles in degrees, spin rate in rotations per minute), they need to be standardized so they can be compared on the same scale.\n",
    "\n",
    "### 2. Calculate the Difficulty Score\n",
    "Once the features are standardized, they are summed to compute the difficulty score for each play. Optionally, you can assign different weights to each feature if certain metrics (like exit speed) are considered more important. In the absence of weighting, each feature is treated equally in the sum.\n",
    "\n",
    "### 3. Assign the Difficulty Score to the Fielder\n",
    "After calculating the difficulty score for each play, it can be assigned to the fielder who was responsible for the play, allowing us to evaluate their performance in handling difficult plays."
   ]
  },
  {
   "cell_type": "code",
   "execution_count": 249,
   "id": "dc8efa67-8b2b-4b03-bf5c-0e44d6f590d1",
   "metadata": {},
   "outputs": [],
   "source": [
    "import pandas as pd\n",
    "import numpy as np\n",
    "\n",
    "import seaborn as sns\n",
    "import matplotlib.pyplot as plt\n",
    "\n",
    "from sklearn.linear_model import LogisticRegression \n",
    "from sklearn.model_selection import train_test_split \n",
    "from sklearn.metrics import accuracy_score\n",
    "\n",
    "from sklearn.preprocessing import MinMaxScaler"
   ]
  },
  {
   "cell_type": "code",
   "execution_count": 292,
   "id": "0f5dd19e-e454-498c-acbf-e026f7052bfa",
   "metadata": {},
   "outputs": [],
   "source": [
    "df = pd.read_csv('data-train.csv')"
   ]
  },
  {
   "cell_type": "markdown",
   "id": "0d415816-5313-407a-95d2-e265abff2527",
   "metadata": {},
   "source": [
    "## Create a function to calculate the distance a ball will travel given its velocity and exit angle\n",
    "\n",
    "Will be used to filter out home run balls so that fielders aren't evaluated on those balls"
   ]
  },
  {
   "cell_type": "code",
   "execution_count": 189,
   "id": "095c0650-b408-4d50-ae9a-ee924b182e08",
   "metadata": {},
   "outputs": [
    {
     "name": "stdout",
     "output_type": "stream",
     "text": [
      "Estimated distance: 578.81 feet\n"
     ]
    }
   ],
   "source": [
    "import numpy as np\n",
    "\n",
    "# Function to calculate distance based on exit speed and vertical exit angle\n",
    "def calculate_distance(exit_speed, vert_exit_angle):\n",
    "    # Convert exit speed from mph to meters per second (1 mph = 0.44704 m/s)\n",
    "    exit_speed_mps = exit_speed * 0.44704\n",
    "\n",
    "    # Convert vertical exit angle from degrees to radians\n",
    "    vert_exit_angle_rad = np.radians(vert_exit_angle)\n",
    "\n",
    "    # Acceleration due to gravity (m/s^2)\n",
    "    g = 9.81\n",
    "\n",
    "    # Calculate the distance using the projectile motion formula\n",
    "    distance = (exit_speed_mps**2 * np.sin(2 * vert_exit_angle_rad)) / g\n",
    "    \n",
    "    # Convert the distance back to feet (1 meter = 3.28084 feet)\n",
    "    distance_ft = distance * 3.28084\n",
    "    \n",
    "    return distance_ft\n",
    "\n",
    "# Example usage\n",
    "exit_speed = 100  # mph\n",
    "vert_exit_angle = 30  # degrees\n",
    "estimated_distance = calculate_distance(exit_speed, vert_exit_angle)\n",
    "print(f\"Estimated distance: {estimated_distance:.2f} feet\")\n"
   ]
  },
  {
   "cell_type": "markdown",
   "id": "71459aee-4dd9-42e6-b6d8-9afad37e8d34",
   "metadata": {},
   "source": [
    "## Implementation of assigning which fielder is responsible for a ball based on its horizontal angle\n",
    "\n",
    "After assigning which fielder is responsible, calculate the efficiency for each fielder_id and compare it to player 15411"
   ]
  },
  {
   "cell_type": "markdown",
   "id": "47174055-aab6-4777-b627-3017eebf4afa",
   "metadata": {},
   "source": [
    "## Process\n",
    "\n",
    "1. Horizontal exit angles for foul balls should be set with statistics from existing data instead of arbitrary -90 and 90 degrees.\n",
    "2. same goes with the field assignment. Use the statistic (mean + 2*std) which will capture 95% of the horizontal angles that center fielders have been responsible for.\n",
    "3. As 15411 is center fielder, should we just compare him with all other center fielder in terms of efficiency"
   ]
  },
  {
   "cell_type": "code",
   "execution_count": 424,
   "id": "2446db4c-eb17-4edf-983d-788c96117a15",
   "metadata": {},
   "outputs": [],
   "source": [
    "df_tmp = df.copy()\n",
    "\n",
    "df_tmp.dropna(subset=['first_fielder'], inplace=True)\n",
    "\n",
    "df_tmp['first_fielder'] = df_tmp['first_fielder'].astype(int)"
   ]
  },
  {
   "cell_type": "markdown",
   "id": "82dd62eb-2a70-461b-a6c1-f7190bf43f4b",
   "metadata": {},
   "source": [
    "### For the horizontal exit angle for balls that were caught, the max is 60.18 degrees and min is -69.86 so assume that this is the range for all catchable balls"
   ]
  },
  {
   "cell_type": "code",
   "execution_count": 427,
   "id": "bd599a57-331d-4075-9c3e-6d99865781c9",
   "metadata": {},
   "outputs": [
    {
     "name": "stdout",
     "output_type": "stream",
     "text": [
      "ALL DATA\n"
     ]
    },
    {
     "data": {
      "text/html": [
       "<div>\n",
       "<style scoped>\n",
       "    .dataframe tbody tr th:only-of-type {\n",
       "        vertical-align: middle;\n",
       "    }\n",
       "\n",
       "    .dataframe tbody tr th {\n",
       "        vertical-align: top;\n",
       "    }\n",
       "\n",
       "    .dataframe thead th {\n",
       "        text-align: right;\n",
       "    }\n",
       "</style>\n",
       "<table border=\"1\" class=\"dataframe\">\n",
       "  <thead>\n",
       "    <tr style=\"text-align: right;\">\n",
       "      <th></th>\n",
       "      <th>horz_exit_angle</th>\n",
       "    </tr>\n",
       "  </thead>\n",
       "  <tbody>\n",
       "    <tr>\n",
       "      <th>count</th>\n",
       "      <td>91553.000000</td>\n",
       "    </tr>\n",
       "    <tr>\n",
       "      <th>mean</th>\n",
       "      <td>2.071675</td>\n",
       "    </tr>\n",
       "    <tr>\n",
       "      <th>std</th>\n",
       "      <td>60.988812</td>\n",
       "    </tr>\n",
       "    <tr>\n",
       "      <th>min</th>\n",
       "      <td>-179.989000</td>\n",
       "    </tr>\n",
       "    <tr>\n",
       "      <th>25%</th>\n",
       "      <td>-21.495800</td>\n",
       "    </tr>\n",
       "    <tr>\n",
       "      <th>50%</th>\n",
       "      <td>0.489532</td>\n",
       "    </tr>\n",
       "    <tr>\n",
       "      <th>75%</th>\n",
       "      <td>23.590000</td>\n",
       "    </tr>\n",
       "    <tr>\n",
       "      <th>max</th>\n",
       "      <td>179.943000</td>\n",
       "    </tr>\n",
       "  </tbody>\n",
       "</table>\n",
       "</div>"
      ],
      "text/plain": [
       "       horz_exit_angle\n",
       "count     91553.000000\n",
       "mean          2.071675\n",
       "std          60.988812\n",
       "min        -179.989000\n",
       "25%         -21.495800\n",
       "50%           0.489532\n",
       "75%          23.590000\n",
       "max         179.943000"
      ]
     },
     "metadata": {},
     "output_type": "display_data"
    },
    {
     "name": "stdout",
     "output_type": "stream",
     "text": [
      "Only the data that airout is true\n"
     ]
    },
    {
     "data": {
      "text/html": [
       "<div>\n",
       "<style scoped>\n",
       "    .dataframe tbody tr th:only-of-type {\n",
       "        vertical-align: middle;\n",
       "    }\n",
       "\n",
       "    .dataframe tbody tr th {\n",
       "        vertical-align: top;\n",
       "    }\n",
       "\n",
       "    .dataframe thead th {\n",
       "        text-align: right;\n",
       "    }\n",
       "</style>\n",
       "<table border=\"1\" class=\"dataframe\">\n",
       "  <thead>\n",
       "    <tr style=\"text-align: right;\">\n",
       "      <th></th>\n",
       "      <th>horz_exit_angle</th>\n",
       "      <th>hit_spin_rate</th>\n",
       "      <th>vert_exit_angle</th>\n",
       "      <th>exit_speed</th>\n",
       "    </tr>\n",
       "  </thead>\n",
       "  <tbody>\n",
       "    <tr>\n",
       "      <th>count</th>\n",
       "      <td>34058.000000</td>\n",
       "      <td>33226.000000</td>\n",
       "      <td>34058.000000</td>\n",
       "      <td>34058.000000</td>\n",
       "    </tr>\n",
       "    <tr>\n",
       "      <th>mean</th>\n",
       "      <td>-0.076981</td>\n",
       "      <td>3061.015659</td>\n",
       "      <td>33.969020</td>\n",
       "      <td>90.295030</td>\n",
       "    </tr>\n",
       "    <tr>\n",
       "      <th>std</th>\n",
       "      <td>15.922606</td>\n",
       "      <td>1196.510176</td>\n",
       "      <td>10.989078</td>\n",
       "      <td>8.010069</td>\n",
       "    </tr>\n",
       "    <tr>\n",
       "      <th>min</th>\n",
       "      <td>-69.857500</td>\n",
       "      <td>167.001000</td>\n",
       "      <td>9.678282</td>\n",
       "      <td>63.730070</td>\n",
       "    </tr>\n",
       "    <tr>\n",
       "      <th>25%</th>\n",
       "      <td>-12.115467</td>\n",
       "      <td>2088.797500</td>\n",
       "      <td>25.296434</td>\n",
       "      <td>84.880950</td>\n",
       "    </tr>\n",
       "    <tr>\n",
       "      <th>50%</th>\n",
       "      <td>-0.237675</td>\n",
       "      <td>3038.823756</td>\n",
       "      <td>33.463550</td>\n",
       "      <td>90.849930</td>\n",
       "    </tr>\n",
       "    <tr>\n",
       "      <th>75%</th>\n",
       "      <td>12.204905</td>\n",
       "      <td>3991.422210</td>\n",
       "      <td>42.038866</td>\n",
       "      <td>96.204718</td>\n",
       "    </tr>\n",
       "    <tr>\n",
       "      <th>max</th>\n",
       "      <td>60.182400</td>\n",
       "      <td>7973.980000</td>\n",
       "      <td>69.261900</td>\n",
       "      <td>115.679000</td>\n",
       "    </tr>\n",
       "  </tbody>\n",
       "</table>\n",
       "</div>"
      ],
      "text/plain": [
       "       horz_exit_angle  hit_spin_rate  vert_exit_angle    exit_speed\n",
       "count     34058.000000   33226.000000     34058.000000  34058.000000\n",
       "mean         -0.076981    3061.015659        33.969020     90.295030\n",
       "std          15.922606    1196.510176        10.989078      8.010069\n",
       "min         -69.857500     167.001000         9.678282     63.730070\n",
       "25%         -12.115467    2088.797500        25.296434     84.880950\n",
       "50%          -0.237675    3038.823756        33.463550     90.849930\n",
       "75%          12.204905    3991.422210        42.038866     96.204718\n",
       "max          60.182400    7973.980000        69.261900    115.679000"
      ]
     },
     "execution_count": 427,
     "metadata": {},
     "output_type": "execute_result"
    }
   ],
   "source": [
    "# this includes every ball\n",
    "print(\"ALL DATA\")\n",
    "display(df[['horz_exit_angle']].describe())\n",
    "\n",
    "\n",
    "print(\"Only the data that airout is true\")\n",
    "input_features = [ 'horz_exit_angle', 'hit_spin_rate',\n",
    "       'vert_exit_angle', 'exit_speed']\n",
    "df_tmp[input_features].describe()"
   ]
  },
  {
   "cell_type": "markdown",
   "id": "d828db23-680f-45b7-a9a3-0c1c5b2fabd2",
   "metadata": {},
   "source": [
    "### Looking at horizontal angle for each fielder (right, center, and left)"
   ]
  },
  {
   "cell_type": "code",
   "execution_count": 430,
   "id": "0958477e-6afa-4456-bc28-8e1f122e591b",
   "metadata": {},
   "outputs": [
    {
     "data": {
      "text/html": [
       "<div>\n",
       "<style scoped>\n",
       "    .dataframe tbody tr th:only-of-type {\n",
       "        vertical-align: middle;\n",
       "    }\n",
       "\n",
       "    .dataframe tbody tr th {\n",
       "        vertical-align: top;\n",
       "    }\n",
       "\n",
       "    .dataframe thead th {\n",
       "        text-align: right;\n",
       "    }\n",
       "</style>\n",
       "<table border=\"1\" class=\"dataframe\">\n",
       "  <thead>\n",
       "    <tr style=\"text-align: right;\">\n",
       "      <th></th>\n",
       "      <th>horz_exit_angle</th>\n",
       "      <th>hit_spin_rate</th>\n",
       "      <th>vert_exit_angle</th>\n",
       "      <th>exit_speed</th>\n",
       "    </tr>\n",
       "  </thead>\n",
       "  <tbody>\n",
       "    <tr>\n",
       "      <th>count</th>\n",
       "      <td>9645.000000</td>\n",
       "      <td>9358.000000</td>\n",
       "      <td>9645.000000</td>\n",
       "      <td>9645.000000</td>\n",
       "    </tr>\n",
       "    <tr>\n",
       "      <th>mean</th>\n",
       "      <td>-18.710678</td>\n",
       "      <td>3177.154034</td>\n",
       "      <td>35.221432</td>\n",
       "      <td>88.512263</td>\n",
       "    </tr>\n",
       "    <tr>\n",
       "      <th>std</th>\n",
       "      <td>7.544702</td>\n",
       "      <td>1242.336740</td>\n",
       "      <td>11.746830</td>\n",
       "      <td>8.086804</td>\n",
       "    </tr>\n",
       "    <tr>\n",
       "      <th>min</th>\n",
       "      <td>-69.857500</td>\n",
       "      <td>195.963000</td>\n",
       "      <td>10.548733</td>\n",
       "      <td>63.730070</td>\n",
       "    </tr>\n",
       "    <tr>\n",
       "      <th>25%</th>\n",
       "      <td>-23.858952</td>\n",
       "      <td>2141.535474</td>\n",
       "      <td>25.645084</td>\n",
       "      <td>82.988600</td>\n",
       "    </tr>\n",
       "    <tr>\n",
       "      <th>50%</th>\n",
       "      <td>-18.781820</td>\n",
       "      <td>3237.564065</td>\n",
       "      <td>35.146454</td>\n",
       "      <td>88.664760</td>\n",
       "    </tr>\n",
       "    <tr>\n",
       "      <th>75%</th>\n",
       "      <td>-13.652093</td>\n",
       "      <td>4162.666009</td>\n",
       "      <td>44.421766</td>\n",
       "      <td>94.119700</td>\n",
       "    </tr>\n",
       "    <tr>\n",
       "      <th>max</th>\n",
       "      <td>16.569229</td>\n",
       "      <td>7973.980000</td>\n",
       "      <td>69.261900</td>\n",
       "      <td>115.679000</td>\n",
       "    </tr>\n",
       "  </tbody>\n",
       "</table>\n",
       "</div>"
      ],
      "text/plain": [
       "       horz_exit_angle  hit_spin_rate  vert_exit_angle   exit_speed\n",
       "count      9645.000000    9358.000000      9645.000000  9645.000000\n",
       "mean        -18.710678    3177.154034        35.221432    88.512263\n",
       "std           7.544702    1242.336740        11.746830     8.086804\n",
       "min         -69.857500     195.963000        10.548733    63.730070\n",
       "25%         -23.858952    2141.535474        25.645084    82.988600\n",
       "50%         -18.781820    3237.564065        35.146454    88.664760\n",
       "75%         -13.652093    4162.666009        44.421766    94.119700\n",
       "max          16.569229    7973.980000        69.261900   115.679000"
      ]
     },
     "metadata": {},
     "output_type": "display_data"
    },
    {
     "data": {
      "text/html": [
       "<div>\n",
       "<style scoped>\n",
       "    .dataframe tbody tr th:only-of-type {\n",
       "        vertical-align: middle;\n",
       "    }\n",
       "\n",
       "    .dataframe tbody tr th {\n",
       "        vertical-align: top;\n",
       "    }\n",
       "\n",
       "    .dataframe thead th {\n",
       "        text-align: right;\n",
       "    }\n",
       "</style>\n",
       "<table border=\"1\" class=\"dataframe\">\n",
       "  <thead>\n",
       "    <tr style=\"text-align: right;\">\n",
       "      <th></th>\n",
       "      <th>horz_exit_angle</th>\n",
       "      <th>hit_spin_rate</th>\n",
       "      <th>vert_exit_angle</th>\n",
       "      <th>exit_speed</th>\n",
       "    </tr>\n",
       "  </thead>\n",
       "  <tbody>\n",
       "    <tr>\n",
       "      <th>count</th>\n",
       "      <td>14052.000000</td>\n",
       "      <td>13889.000000</td>\n",
       "      <td>14052.000000</td>\n",
       "      <td>14052.000000</td>\n",
       "    </tr>\n",
       "    <tr>\n",
       "      <th>mean</th>\n",
       "      <td>-0.716569</td>\n",
       "      <td>2803.037734</td>\n",
       "      <td>32.203190</td>\n",
       "      <td>92.519726</td>\n",
       "    </tr>\n",
       "    <tr>\n",
       "      <th>std</th>\n",
       "      <td>7.037893</td>\n",
       "      <td>1099.138102</td>\n",
       "      <td>9.902645</td>\n",
       "      <td>7.550639</td>\n",
       "    </tr>\n",
       "    <tr>\n",
       "      <th>min</th>\n",
       "      <td>-27.372400</td>\n",
       "      <td>167.001000</td>\n",
       "      <td>9.678282</td>\n",
       "      <td>67.278380</td>\n",
       "    </tr>\n",
       "    <tr>\n",
       "      <th>25%</th>\n",
       "      <td>-5.665390</td>\n",
       "      <td>1936.703902</td>\n",
       "      <td>24.538035</td>\n",
       "      <td>87.720735</td>\n",
       "    </tr>\n",
       "    <tr>\n",
       "      <th>50%</th>\n",
       "      <td>-0.737861</td>\n",
       "      <td>2748.319331</td>\n",
       "      <td>31.582939</td>\n",
       "      <td>93.516600</td>\n",
       "    </tr>\n",
       "    <tr>\n",
       "      <th>75%</th>\n",
       "      <td>4.117287</td>\n",
       "      <td>3621.150000</td>\n",
       "      <td>39.005967</td>\n",
       "      <td>98.069553</td>\n",
       "    </tr>\n",
       "    <tr>\n",
       "      <th>max</th>\n",
       "      <td>32.975900</td>\n",
       "      <td>7512.807781</td>\n",
       "      <td>63.830100</td>\n",
       "      <td>113.996000</td>\n",
       "    </tr>\n",
       "  </tbody>\n",
       "</table>\n",
       "</div>"
      ],
      "text/plain": [
       "       horz_exit_angle  hit_spin_rate  vert_exit_angle    exit_speed\n",
       "count     14052.000000   13889.000000     14052.000000  14052.000000\n",
       "mean         -0.716569    2803.037734        32.203190     92.519726\n",
       "std           7.037893    1099.138102         9.902645      7.550639\n",
       "min         -27.372400     167.001000         9.678282     67.278380\n",
       "25%          -5.665390    1936.703902        24.538035     87.720735\n",
       "50%          -0.737861    2748.319331        31.582939     93.516600\n",
       "75%           4.117287    3621.150000        39.005967     98.069553\n",
       "max          32.975900    7512.807781        63.830100    113.996000"
      ]
     },
     "metadata": {},
     "output_type": "display_data"
    },
    {
     "data": {
      "text/html": [
       "<div>\n",
       "<style scoped>\n",
       "    .dataframe tbody tr th:only-of-type {\n",
       "        vertical-align: middle;\n",
       "    }\n",
       "\n",
       "    .dataframe tbody tr th {\n",
       "        vertical-align: top;\n",
       "    }\n",
       "\n",
       "    .dataframe thead th {\n",
       "        text-align: right;\n",
       "    }\n",
       "</style>\n",
       "<table border=\"1\" class=\"dataframe\">\n",
       "  <thead>\n",
       "    <tr style=\"text-align: right;\">\n",
       "      <th></th>\n",
       "      <th>horz_exit_angle</th>\n",
       "      <th>hit_spin_rate</th>\n",
       "      <th>vert_exit_angle</th>\n",
       "      <th>exit_speed</th>\n",
       "    </tr>\n",
       "  </thead>\n",
       "  <tbody>\n",
       "    <tr>\n",
       "      <th>count</th>\n",
       "      <td>10361.000000</td>\n",
       "      <td>9979.000000</td>\n",
       "      <td>10361.000000</td>\n",
       "      <td>10361.000000</td>\n",
       "    </tr>\n",
       "    <tr>\n",
       "      <th>mean</th>\n",
       "      <td>18.136462</td>\n",
       "      <td>3311.164221</td>\n",
       "      <td>35.198047</td>\n",
       "      <td>88.937377</td>\n",
       "    </tr>\n",
       "    <tr>\n",
       "      <th>std</th>\n",
       "      <td>7.596437</td>\n",
       "      <td>1212.588916</td>\n",
       "      <td>11.328252</td>\n",
       "      <td>7.823328</td>\n",
       "    </tr>\n",
       "    <tr>\n",
       "      <th>min</th>\n",
       "      <td>-28.357000</td>\n",
       "      <td>240.330000</td>\n",
       "      <td>10.266689</td>\n",
       "      <td>65.940600</td>\n",
       "    </tr>\n",
       "    <tr>\n",
       "      <th>25%</th>\n",
       "      <td>12.853500</td>\n",
       "      <td>2328.435000</td>\n",
       "      <td>26.305500</td>\n",
       "      <td>83.713760</td>\n",
       "    </tr>\n",
       "    <tr>\n",
       "      <th>50%</th>\n",
       "      <td>18.070479</td>\n",
       "      <td>3370.080000</td>\n",
       "      <td>35.101900</td>\n",
       "      <td>89.447610</td>\n",
       "    </tr>\n",
       "    <tr>\n",
       "      <th>75%</th>\n",
       "      <td>23.399359</td>\n",
       "      <td>4293.187244</td>\n",
       "      <td>43.794915</td>\n",
       "      <td>94.420000</td>\n",
       "    </tr>\n",
       "    <tr>\n",
       "      <th>max</th>\n",
       "      <td>60.182400</td>\n",
       "      <td>6428.743977</td>\n",
       "      <td>65.771100</td>\n",
       "      <td>113.270000</td>\n",
       "    </tr>\n",
       "  </tbody>\n",
       "</table>\n",
       "</div>"
      ],
      "text/plain": [
       "       horz_exit_angle  hit_spin_rate  vert_exit_angle    exit_speed\n",
       "count     10361.000000    9979.000000     10361.000000  10361.000000\n",
       "mean         18.136462    3311.164221        35.198047     88.937377\n",
       "std           7.596437    1212.588916        11.328252      7.823328\n",
       "min         -28.357000     240.330000        10.266689     65.940600\n",
       "25%          12.853500    2328.435000        26.305500     83.713760\n",
       "50%          18.070479    3370.080000        35.101900     89.447610\n",
       "75%          23.399359    4293.187244        43.794915     94.420000\n",
       "max          60.182400    6428.743977        65.771100    113.270000"
      ]
     },
     "metadata": {},
     "output_type": "display_data"
    }
   ],
   "source": [
    "for f_id in ['lf_id', 'cf_id', 'rf_id']:\n",
    "    df_field= df_tmp[df_tmp['first_fielder']==df_tmp[f_id]]\n",
    "    display(df_field[input_features].describe())"
   ]
  },
  {
   "cell_type": "markdown",
   "id": "0287ef90-7a7b-425b-8923-1891bd00d58c",
   "metadata": {},
   "source": [
    "### Looking at centerfielders, we can use -0.7 +/- 2*7.03 (2 std covers 95% of the data)\n",
    "\n",
    "Thus, horz_exit_angle between -14.76 and 13.36 are opportunities for center fielder. "
   ]
  },
  {
   "cell_type": "code",
   "execution_count": 437,
   "id": "99317ff6-8246-47c1-a0c8-c9b9d0f6a0ae",
   "metadata": {},
   "outputs": [
    {
     "data": {
      "text/plain": [
       "-14.76"
      ]
     },
     "execution_count": 437,
     "metadata": {},
     "output_type": "execute_result"
    }
   ],
   "source": [
    "-0.7-2*7.03"
   ]
  },
  {
   "cell_type": "code",
   "execution_count": 440,
   "id": "d6b27b3a-3f5c-4a46-bde8-4ceabf9e7fe2",
   "metadata": {},
   "outputs": [
    {
     "data": {
      "text/plain": [
       "13.360000000000001"
      ]
     },
     "execution_count": 440,
     "metadata": {},
     "output_type": "execute_result"
    }
   ],
   "source": [
    "-0.7+2*7.03"
   ]
  },
  {
   "cell_type": "code",
   "execution_count": 451,
   "id": "5c0022e8-ef71-4218-8038-1bf5679dcefa",
   "metadata": {},
   "outputs": [
    {
     "name": "stdout",
     "output_type": "stream",
     "text": [
      "Player 15411's stats:\n",
      "      fielder_id  total_opportunities  total_airouts  efficiency\n",
      "148       15411                  205             81    0.395122\n",
      "League average stats for centerfielders:\n",
      " fielder_id             51380.438710\n",
      "total_opportunities       37.174194\n",
      "total_airouts             14.022581\n",
      "efficiency                 0.360578\n",
      "dtype: float64\n"
     ]
    },
    {
     "name": "stderr",
     "output_type": "stream",
     "text": [
      "/var/folders/1s/2gfv98317bnc5_7xb_2604sc0000gp/T/ipykernel_61923/2273668524.py:13: SettingWithCopyWarning: \n",
      "A value is trying to be set on a copy of a slice from a DataFrame.\n",
      "Try using .loc[row_indexer,col_indexer] = value instead\n",
      "\n",
      "See the caveats in the documentation: https://pandas.pydata.org/pandas-docs/stable/user_guide/indexing.html#returning-a-view-versus-a-copy\n",
      "  df_filtered['estimated_distance'] = df_filtered.apply(\n"
     ]
    }
   ],
   "source": [
    "import pandas as pd\n",
    "\n",
    "# Step 0: Define filtering conditions to exclude foul balls and home runs\n",
    "# Define foul territory as extreme horizontal exit angles (example: angles < -90 or > 90 degrees)\n",
    "foul_territory = (-69.857500, 60.182400)\n",
    "\n",
    "# Filter out foul balls and home runs (if home runs are indicated in your data)\n",
    "# Adjust the condition based on how home runs are represented (e.g., `is_home_run` or inferred from exit speed/launch angle)\n",
    "df_filtered = df[(df['horz_exit_angle'] >= foul_territory[0]) & (df['horz_exit_angle'] <= foul_territory[1])]\n",
    "\n",
    "# filter out balls that travel more than 400ft (avg homerun distance)\n",
    "# Apply the function to calculate distance for each row in the DataFrame\n",
    "df_filtered['estimated_distance'] = df_filtered.apply(\n",
    "    lambda row: calculate_distance(row['exit_speed'], row['vert_exit_angle']), axis=1\n",
    ")\n",
    "\n",
    "# Filter out rows where the estimated distance is greater than 400 feet\n",
    "df_filtered = df_filtered[df_filtered['estimated_distance'] <= 400]\n",
    "\n",
    "\n",
    "# Step 1: Define responsibility based on horizontal exit angle\n",
    "def assign_fielder_zone(horz_exit_angle):\n",
    "    if horz_exit_angle <= -14.76:  # Left field zone\n",
    "        return 'LF'\n",
    "    elif -14.76 < horz_exit_angle <= 13.360000000000001:  # Center field zone\n",
    "        return 'CF'\n",
    "    else:  # Right field zone\n",
    "        return 'RF'\n",
    "\n",
    "# Apply the function to create a new column for assigned responsibility\n",
    "df_filtered['responsible_zone'] = df_filtered['horz_exit_angle'].apply(assign_fielder_zone)\n",
    "\n",
    "# Step 2: Assign actual fielder based on their zone responsibility\n",
    "def assign_fielder(row):\n",
    "    if row['responsible_zone'] == 'LF':\n",
    "        return row['lf_id']\n",
    "    elif row['responsible_zone'] == 'CF':\n",
    "        return row['cf_id']\n",
    "    else:\n",
    "        return row['rf_id']\n",
    "\n",
    "# Assign the fielder who is responsible for the play\n",
    "df_filtered['fielder_id'] = df_filtered.apply(assign_fielder, axis=1)\n",
    "\n",
    "# Filter for only centerfielders by selecting entries where `responsible_zone` is 'CF'\n",
    "cf_stats = df_filtered[df_filtered['responsible_zone'] == 'CF']\n",
    "\n",
    "# Recalculate fielder_stats but only for centerfielders\n",
    "cf_fielder_stats = cf_stats.groupby('fielder_id').agg(\n",
    "    total_opportunities=('is_airout', 'size'),\n",
    "    total_airouts=('is_airout', 'sum')\n",
    ").reset_index()\n",
    "\n",
    "# Step 4: Calculate efficiency for centerfielders only\n",
    "cf_fielder_stats['efficiency'] = cf_fielder_stats['total_airouts'] / cf_fielder_stats['total_opportunities']\n",
    "\n",
    "# Step 5: Compare player 15411 to the league (only centerfielders)\n",
    "player_15411_stats = cf_fielder_stats[cf_fielder_stats['fielder_id'] == 15411]\n",
    "league_stats = cf_fielder_stats[cf_fielder_stats['fielder_id'] != 15411]\n",
    "\n",
    "print(\"Player 15411's stats:\\n\", player_15411_stats)\n",
    "print(\"League average stats for centerfielders:\\n\", league_stats.mean())\n"
   ]
  },
  {
   "cell_type": "markdown",
   "id": "7e13aaf6-72ea-460e-9097-043a1a8ae1fe",
   "metadata": {},
   "source": [
    "## Box and Whisker Plot to visualize Player 15411 vs the rest of the league"
   ]
  },
  {
   "cell_type": "code",
   "execution_count": 454,
   "id": "afb0ef43-f993-4b65-9bef-ff986eaa3b89",
   "metadata": {},
   "outputs": [
    {
     "data": {
      "image/png": "[encoded data removed]",
      "text/plain": [
       "<Figure size 1000x600 with 1 Axes>"
      ]
     },
     "metadata": {},
     "output_type": "display_data"
    }
   ],
   "source": [
    "import matplotlib.pyplot as plt\n",
    "\n",
    "# Step 6: Plot a box and whisker plot for efficiency across the league, excluding player 15411\n",
    "plt.figure(figsize=(10,6))\n",
    "\n",
    "# Boxplot for league efficiency excluding player 15411\n",
    "plt.boxplot(league_stats['efficiency'], vert=False, patch_artist=True)\n",
    "\n",
    "# Add a vertical line for player 15411's efficiency\n",
    "player_15411_efficiency = player_15411_stats['efficiency'].values[0]\n",
    "plt.axvline(player_15411_efficiency, color='red', linestyle='--', label=f'Player 15411 ({player_15411_efficiency:.2f} Efficiency)')\n",
    "\n",
    "# Add labels and title\n",
    "plt.xlabel('Efficiency')\n",
    "plt.title('Efficiency Distribution of Fielders in the League')\n",
    "plt.legend()\n",
    "\n",
    "# Show the plot\n",
    "plt.tight_layout()\n",
    "plt.show()\n"
   ]
  },
  {
   "cell_type": "markdown",
   "id": "efa103df-559c-4d87-b0e2-883d30755ab6",
   "metadata": {},
   "source": [
    "## Train a random forest classifier to determine which fielder is responsible for a ball"
   ]
  },
  {
   "cell_type": "code",
   "execution_count": 480,
   "id": "00a1e745-ec0d-47c7-993a-8c0a7296445c",
   "metadata": {},
   "outputs": [
    {
     "data": {
      "text/plain": [
       "(34058, 22)"
      ]
     },
     "execution_count": 480,
     "metadata": {},
     "output_type": "execute_result"
    }
   ],
   "source": [
    "import numpy as np\n",
    "import pandas as pd\n",
    "from sklearn.model_selection import train_test_split\n",
    "from sklearn.ensemble import RandomForestClassifier\n",
    "from sklearn.metrics import accuracy_score, classification_report\n",
    "\n",
    "df_model = df.copy()\n",
    "\n",
    "# Conditions and choices\n",
    "conditions = [\n",
    "    df_model['lf_id'] == df_model['first_fielder'],\n",
    "    df_model['cf_id'] == df_model['first_fielder'],\n",
    "    df_model['rf_id'] == df_model['first_fielder']\n",
    "]\n",
    "choices = [\"LF\", \"CF\", \"RF\"]\n",
    "\n",
    "# Apply np.select and drop rows where no conditions were met\n",
    "df_model['fielder'] = np.select(conditions, choices, default=None)\n",
    "df_model = df_model.dropna(subset=['first_fielder'])\n",
    "\n",
    "df_model.shape"
   ]
  },
  {
   "cell_type": "markdown",
   "id": "8e16b661-2f24-49c0-8ee8-0bfc2e093081",
   "metadata": {},
   "source": [
    "## Achieves a 86% accuracy score"
   ]
  },
  {
   "cell_type": "code",
   "execution_count": 483,
   "id": "8d89346c-271e-422f-80a4-74198fd7201f",
   "metadata": {},
   "outputs": [
    {
     "name": "stdout",
     "output_type": "stream",
     "text": [
      "Accuracy: 0.8656782149148561\n",
      "              precision    recall  f1-score   support\n",
      "\n",
      "          CF       0.82      0.86      0.84      2751\n",
      "          LF       0.90      0.86      0.88      1907\n",
      "          RF       0.90      0.88      0.89      2154\n",
      "\n",
      "    accuracy                           0.87      6812\n",
      "   macro avg       0.87      0.87      0.87      6812\n",
      "weighted avg       0.87      0.87      0.87      6812\n",
      "\n"
     ]
    }
   ],
   "source": [
    "# Select features and target\n",
    "features = df_model[['exit_speed', 'vert_exit_angle', 'horz_exit_angle', 'hit_spin_rate']]\n",
    "target = df_model['fielder']\n",
    "\n",
    "# Split data\n",
    "X_train, X_val, y_train, y_val = train_test_split(features, target, test_size=0.2, random_state=42)\n",
    "\n",
    "# Initialize, train, and evaluate the classifier\n",
    "clf = RandomForestClassifier(random_state=42, class_weight='balanced')\n",
    "clf.fit(X_train, y_train)\n",
    "\n",
    "y_pred = clf.predict(X_val)\n",
    "print(\"Accuracy:\", accuracy_score(y_val, y_pred))\n",
    "print(classification_report(y_val, y_pred))\n"
   ]
  },
  {
   "cell_type": "markdown",
   "id": "a834c59c-9fc4-48c1-9ff4-b366d89aa366",
   "metadata": {},
   "source": [
    "## Calculate efficiency of fielders using RFC"
   ]
  },
  {
   "cell_type": "code",
   "execution_count": 486,
   "id": "4b5c75a2-d4da-4783-8e56-373cce0334be",
   "metadata": {},
   "outputs": [
    {
     "data": {
      "text/plain": [
       "(57, 22)"
      ]
     },
     "execution_count": 486,
     "metadata": {},
     "output_type": "execute_result"
    }
   ],
   "source": [
    "# Step 0: Define filtering conditions to exclude foul balls and home runs\n",
    "foul_territory = (-69.857500, 60.182400)\n",
    "df_test = df.copy()\n",
    "\n",
    "df_test = df_test[(df_test['horz_exit_angle'] >= foul_territory[0]) & (df_test['horz_exit_angle'] <= foul_territory[1])]\n",
    "\n",
    "# Estimate distance and filter out balls that travel more than 400 feet (home run)\n",
    "df_test['estimated_distance'] = df_test.apply(\n",
    "    lambda row: calculate_distance(row['exit_speed'], row['vert_exit_angle']), axis=1\n",
    ")\n",
    "df_test = df_test[df_test['estimated_distance'] <= 400]\n",
    "\n",
    "df_test[df_test['first_fielder'] == 15411].shape"
   ]
  },
  {
   "cell_type": "code",
   "execution_count": 488,
   "id": "deca3782-e1dc-4b69-a3fc-e1d6251fc2ee",
   "metadata": {},
   "outputs": [],
   "source": [
    "# Step 1: Use the RFC model to predict the responsible fielder (LF, CF, or RF)\n",
    "features = df_test[['exit_speed', 'vert_exit_angle', 'horz_exit_angle', 'hit_spin_rate']]\n",
    "df_test['responsible_zone'] = clf.predict(features)  # Predict responsible fielder zone\n",
    "\n",
    "# Step 2: Initialize `fielder_id` by copying `first_fielder` values where available\n",
    "df_test['fielder_id'] = df_test['first_fielder']\n",
    "\n",
    "# Step 3: Assign `lf_id`, `cf_id`, or `rf_id` to `fielder_id` based on `responsible_zone`\n",
    "# only for rows where `first_fielder` is NaN\n",
    "df_test.loc[df_test['first_fielder'].isna() & (df_test['responsible_zone'] == 'LF'), 'fielder_id'] = df_test['lf_id']\n",
    "df_test.loc[df_test['first_fielder'].isna() & (df_test['responsible_zone'] == 'CF'), 'fielder_id'] = df_test['cf_id']\n",
    "df_test.loc[df_test['first_fielder'].isna() & (df_test['responsible_zone'] == 'RF'), 'fielder_id'] = df_test['rf_id']\n"
   ]
  },
  {
   "cell_type": "code",
   "execution_count": 496,
   "id": "3a650fad-23c7-407e-a752-eba27d0b808c",
   "metadata": {},
   "outputs": [
    {
     "name": "stdout",
     "output_type": "stream",
     "text": [
      "Player 15411's stats:\n",
      "      fielder_id  total_opportunities  total_airouts  efficiency\n",
      "152     15411.0                  145             56    0.386207\n",
      "League average stats for centerfielders:\n",
      " fielder_id             50240.707692\n",
      "total_opportunities       24.575385\n",
      "total_airouts              9.403077\n",
      "efficiency                 0.425273\n",
      "dtype: float64\n"
     ]
    }
   ],
   "source": [
    "# Filter for only centerfielders by selecting entries where `responsible_zone` is 'CF'\n",
    "cf_stats = df_test[df_test['responsible_zone'] == 'CF']\n",
    "\n",
    "# Recalculate fielder_stats but only for centerfielders\n",
    "cf_fielder_stats = cf_stats.groupby('fielder_id').agg(\n",
    "    total_opportunities=('is_airout', 'size'),\n",
    "    total_airouts=('is_airout', 'sum')\n",
    ").reset_index()\n",
    "\n",
    "# Step 4: Calculate efficiency for centerfielders only\n",
    "cf_fielder_stats['efficiency'] = cf_fielder_stats['total_airouts'] / cf_fielder_stats['total_opportunities']\n",
    "\n",
    "# Step 5: Compare player 15411 to the league (only centerfielders)\n",
    "player_15411_stats = cf_fielder_stats[cf_fielder_stats['fielder_id'] == 15411]\n",
    "league_stats = cf_fielder_stats[cf_fielder_stats['fielder_id'] != 15411]\n",
    "\n",
    "print(\"Player 15411's stats:\\n\", player_15411_stats)\n",
    "print(\"League average stats for centerfielders:\\n\", league_stats.mean())"
   ]
  },
  {
   "cell_type": "markdown",
   "id": "86071494-a909-446b-8cb5-56885ac841d6",
   "metadata": {},
   "source": [
    "## Plot results using Box and Whiskers plot"
   ]
  },
  {
   "cell_type": "code",
   "execution_count": 499,
   "id": "b21c4355-0675-4518-8c5b-651052abe5c5",
   "metadata": {},
   "outputs": [
    {
     "data": {
      "image/png": "[encoded data removed]",
      "text/plain": [
       "<Figure size 1000x600 with 1 Axes>"
      ]
     },
     "metadata": {},
     "output_type": "display_data"
    }
   ],
   "source": [
    "# Step 6: Plot a box and whisker plot for efficiency across the league, excluding player 15411\n",
    "plt.figure(figsize=(10,6))\n",
    "\n",
    "# Boxplot for league efficiency excluding player 15411\n",
    "plt.boxplot(league_stats['efficiency'], vert=False, patch_artist=True)\n",
    "\n",
    "# Add a vertical line for player 15411's efficiency\n",
    "player_15411_efficiency = player_15411_stats['efficiency'].values[0]\n",
    "plt.axvline(player_15411_efficiency, color='red', linestyle='--', label=f'Player 15411 ({player_15411_efficiency:.2f} Efficiency)')\n",
    "\n",
    "# Add labels and title\n",
    "plt.xlabel('Efficiency')\n",
    "plt.title('Efficiency Distribution of Fielders in the League')\n",
    "plt.legend()\n",
    "\n",
    "# Show the plot\n",
    "plt.tight_layout()\n",
    "plt.show()"
   ]
  },
  {
   "cell_type": "code",
   "execution_count": null,
   "id": "8e6e73fd-e642-4317-b9d4-311168f43ada",
   "metadata": {},
   "outputs": [],
   "source": []
  }
 ],
 "metadata": {
  "kernelspec": {
   "display_name": "Python 3 (ipykernel)",
   "language": "python",
   "name": "python3"
  },
  "language_info": {
   "codemirror_mode": {
    "name": "ipython",
    "version": 3
   },
   "file_extension": ".py",
   "mimetype": "text/x-python",
   "name": "python",
   "nbconvert_exporter": "python",
   "pygments_lexer": "ipython3",
   "version": "3.12.4"
  }
 },
 "nbformat": 4,
 "nbformat_minor": 5
}
